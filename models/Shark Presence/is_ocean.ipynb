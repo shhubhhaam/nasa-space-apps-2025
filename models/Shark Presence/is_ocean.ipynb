{
 "cells": [
  {
   "cell_type": "code",
   "execution_count": 1,
   "id": "f08c1b4c",
   "metadata": {},
   "outputs": [
    {
     "name": "stdout",
     "output_type": "stream",
     "text": [
      "Defaulting to user installation because normal site-packages is not writeable\n",
      "Collecting global_land_mask\n",
      "  Downloading global_land_mask-1.0.0-py3-none-any.whl.metadata (5.2 kB)\n",
      "Downloading global_land_mask-1.0.0-py3-none-any.whl (1.8 MB)\n",
      "   ---------------------------------------- 0.0/1.8 MB ? eta -:--:--\n",
      "   ---------------------------------------- 0.0/1.8 MB ? eta -:--:--\n",
      "   ----- ---------------------------------- 0.3/1.8 MB ? eta -:--:--\n",
      "   ----- ---------------------------------- 0.3/1.8 MB ? eta -:--:--\n",
      "   ----------- ---------------------------- 0.5/1.8 MB 623.2 kB/s eta 0:00:03\n",
      "   ----------------- ---------------------- 0.8/1.8 MB 767.7 kB/s eta 0:00:02\n",
      "   ---------------------------- ----------- 1.3/1.8 MB 1.1 MB/s eta 0:00:01\n",
      "   ---------------------------------------- 1.8/1.8 MB 1.4 MB/s  0:00:01\n",
      "Installing collected packages: global_land_mask\n",
      "Successfully installed global_land_mask-1.0.0\n",
      "Note: you may need to restart the kernel to use updated packages.\n"
     ]
    }
   ],
   "source": [
    "%pip install global_land_mask"
   ]
  },
  {
   "cell_type": "code",
   "execution_count": 2,
   "id": "3f8fd4be",
   "metadata": {},
   "outputs": [
    {
     "name": "stdout",
     "output_type": "stream",
     "text": [
      "--- Running Ocean/Land Test Suite ---\n",
      "[PASS] Land: Jersey, UK                       Lat:  49.22, Lon:   -2.23 -> Expected: False, Result: False\n",
      "[PASS] Ocean: Gulf of Guinea (Equator/Prime Meridian) Lat:   0.00, Lon:    0.00 -> Expected: True, Result: True\n",
      "[PASS] Land: Mid-Continent (Kansas, USA)      Lat:  39.00, Lon:  -98.00 -> Expected: False, Result: False\n",
      "[PASS] Ocean: Mid-Ocean (South Atlantic)      Lat: -10.00, Lon:  -10.00 -> Expected: True, Result: True\n",
      "[FAIL] Land: Small Island (Maldives)          Lat:   3.50, Lon:   73.00 -> Expected: False, Result: True\n",
      "[PASS] Land: Coastal (New York City Harbor)   Lat:  40.70, Lon:  -74.00 -> Expected: False, Result: False\n",
      "[PASS] Ocean: Just Off Coast (Atlantic near NYC) Lat:  40.50, Lon:  -73.50 -> Expected: True, Result: True\n",
      "[PASS] Land: South Pole (Antarctica)          Lat: -90.00, Lon:    0.00 -> Expected: False, Result: False\n",
      "[PASS] Ocean: Arctic Ocean (Near North Pole)  Lat:  85.00, Lon:    0.00 -> Expected: True, Result: True\n",
      "[PASS] Land: Prime Meridian in Africa (Ghana) Lat:   7.00, Lon:    0.00 -> Expected: False, Result: False\n",
      "[PASS] Ocean: International Date Line (Pacific) Lat:  15.00, Lon:  180.00 -> Expected: True, Result: True\n",
      "-------------------------------------\n"
     ]
    }
   ],
   "source": [
    "from global_land_mask import globe\n",
    "\n",
    "def is_ocean_location(latitude, longitude):\n",
    "  \"\"\"\n",
    "  Checks if the given latitude and longitude are over the ocean.\n",
    "\n",
    "  Args:\n",
    "    latitude (float): The latitude of the point.\n",
    "    longitude (float): The longitude of the point.\n",
    "\n",
    "  Returns:\n",
    "    bool: True if the point is over the ocean, False if it's over land.\n",
    "  \"\"\"\n",
    "  # The function is_land returns True for land, so we negate it for is_ocean.\n",
    "  return not globe.is_land(latitude, longitude)\n",
    "\n",
    "# --- Test Cases ---\n",
    "\n",
    "# Test Case Format: (latitude, longitude, expected_output, description)\n",
    "test_cases = [\n",
    "    # Original Examples\n",
    "    (49.22, -2.23, False, \"Land: Jersey, UK\"),\n",
    "    (0.0, 0.0, True, \"Ocean: Gulf of Guinea (Equator/Prime Meridian)\"),\n",
    "\n",
    "    # Comprehensive Test Set\n",
    "    (39.0, -98.0, False, \"Land: Mid-Continent (Kansas, USA)\"),\n",
    "    (-10.0, -10.0, True, \"Ocean: Mid-Ocean (South Atlantic)\"),\n",
    "    (3.5, 73.0, False, \"Land: Small Island (Maldives)\"),\n",
    "    (40.7, -74.0, False, \"Land: Coastal (New York City Harbor)\"),\n",
    "    (40.5, -73.5, True, \"Ocean: Just Off Coast (Atlantic near NYC)\"),\n",
    "    (-90.0, 0.0, False, \"Land: South Pole (Antarctica)\"),\n",
    "    (85.0, 0.0, True, \"Ocean: Arctic Ocean (Near North Pole)\"),\n",
    "    (7.0, 0.0, False, \"Land: Prime Meridian in Africa (Ghana)\"),\n",
    "    (15.0, 180.0, True, \"Ocean: International Date Line (Pacific)\"),\n",
    "]\n",
    "\n",
    "print(\"--- Running Ocean/Land Test Suite ---\")\n",
    "for lat, lon, expected, desc in test_cases:\n",
    "    result = is_ocean_location(lat, lon)\n",
    "    status = \"PASS\" if result == expected else \"FAIL\"\n",
    "    \n",
    "    print(f\"[{status:4}] {desc:38} Lat: {lat:6.2f}, Lon: {lon:7.2f} -> Expected: {expected}, Result: {result}\")\n",
    "\n",
    "print(\"-------------------------------------\")"
   ]
  },
  {
   "cell_type": "code",
   "execution_count": null,
   "id": "2a3ff4f2",
   "metadata": {},
   "outputs": [],
   "source": []
  }
 ],
 "metadata": {
  "kernelspec": {
   "display_name": "Python 3",
   "language": "python",
   "name": "python3"
  },
  "language_info": {
   "codemirror_mode": {
    "name": "ipython",
    "version": 3
   },
   "file_extension": ".py",
   "mimetype": "text/x-python",
   "name": "python",
   "nbconvert_exporter": "python",
   "pygments_lexer": "ipython3",
   "version": "3.13.7"
  }
 },
 "nbformat": 4,
 "nbformat_minor": 5
}
